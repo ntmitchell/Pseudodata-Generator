{
 "cells": [
  {
   "cell_type": "markdown",
   "metadata": {},
   "source": [
    "### Requirements\n",
    "Include\n",
    "* Distributions\n",
    "    * With random noise\n",
    "* naming of columns\n",
    "* Add missing values\n",
    "\n",
    "Declare the \"modal\"\n",
    "For each column\n",
    "*  distribution\n",
    "* Min/max\n",
    "* Missingness\n",
    "Relationship between the variables (__what does this mean again?__)\n",
    "\n",
    "Each data point needs to sample each column but from a distribution, with some sort of relationships between the columns\n",
    "\n",
    "Outputs to csv "
   ]
  },
  {
   "cell_type": "markdown",
   "metadata": {},
   "source": [
    "### Steps for development\n",
    "1. Make seed column generator using normal distributions\n",
    "    * Pull values from distribution\n",
    "    * Optional: add noise to distribution\n",
    "    * Reference from inside generator function, to determine the number of rows\n",
    "    * Define number of rows\n",
    "    * Generate a list of seed values with this length\n",
    "    * Make a DataFrame with this list as a Series\n",
    "2. Modify seed column generator to accept any SciPy distributions\n",
    "3. Use seed column generator results to make a feature column\n",
    "    * Include \"modal\" declarations: distribution, min/max, \"missingness\" (set percent of missing values/incorrect)\n",
    "4. Make seed-to-feature generation abstract, and allow for variable number of columns\n"
   ]
  },
  {
   "cell_type": "markdown",
   "metadata": {},
   "source": [
    "# OLD METHOD\n",
    "\n",
    "Each features column has a distribution function.\n",
    "> `dataframe['seed'].apply(feature_column.distribution)`\n",
    "\n",
    "## Improvements\n",
    "* Plot features against each other, for spot-checking that they're relating appropriately. Run as a list, not sns.Grid(), for speed.\n",
    "* Restructure, to generate data from joint distribution table\n"
   ]
  },
  {
   "cell_type": "markdown",
   "metadata": {},
   "source": [
    "# Joint distribution method\n",
    "* For feature vector with given distribution, set minimum and maximum as domain.\n",
    "* Divide domain into bins based on the number of rows. (Won't that mean some points are extremely similar?)\n",
    "* Apply stats.distribution_function.pdf([bin_values]) to get distribution vector.\n",
    "* np.outer(*[product_vectors]) to generate joint distribution table\n",
    "* Use values in joint distribution table to get index and column values. \n",
    "    * What do I do with repeated values? Leave in, to make noise?\n",
    "    * Ex. 4 -> (1, 4), (2,2), and (4, 1)\n",
    "* Use joint distribution values as index in final dataframe, and index and column values to set F1 and F2 values\n",
    "\n"
   ]
  },
  {
   "cell_type": "markdown",
   "metadata": {},
   "source": [
    "* Joint distribution from product of feature distributions to make n-dimensional DataFrame of probabilities.\n",
    "* Use values from table as index for results table, and the idicies from the DataFrame as the feature\n",
    "\n",
    "Google: \"Creating multivariate datasets\""
   ]
  },
  {
   "cell_type": "code",
   "execution_count": 1,
   "metadata": {
    "collapsed": true
   },
   "outputs": [],
   "source": [
    "import pandas as pd\n",
    "import numpy as np\n",
    "from scipy import stats, sin\n"
   ]
  },
  {
   "cell_type": "code",
   "execution_count": 2,
   "metadata": {
    "collapsed": true
   },
   "outputs": [],
   "source": [
    "class Feature():\n",
    "    \"\"\"Creates a column of data with a given name, domain, and distribution function. Distribution_function takes scipy.stats.distribution_function().\"\"\"\n",
    "    name = None\n",
    "    min_value = None\n",
    "    max_value = None\n",
    "    n_rows = None\n",
    "    distribution_function = None\n",
    "    \n",
    "    def __init__(self, feature_name, min_max_values=[0,1], n_rows=None, distribution_function=None):\n",
    "        self.name = feature_name\n",
    "        self.min_value, self.max_value = min_max_values\n",
    "        self.n_rows = n_rows\n",
    "        self.distribution_function = distribution_function\n",
    "    \n",
    "    def get_min_max_values(self):\n",
    "        return [self.min_value, self.max_value]\n",
    "    \n",
    "    def generate_data(self):\n",
    "        \"\"\"Applies rvs() method to scipy.stats distribution function. Returns an array of given length.\"\"\"\n",
    "        return self.distribution_function.rvs(size=self.n_rows)\n",
    "    "
   ]
  },
  {
   "cell_type": "markdown",
   "metadata": {},
   "source": [
    "## Create test features"
   ]
  },
  {
   "cell_type": "code",
   "execution_count": 3,
   "metadata": {},
   "outputs": [
    {
     "data": {
      "text/plain": [
       "-0.20879080366548619"
      ]
     },
     "execution_count": 3,
     "metadata": {},
     "output_type": "execute_result"
    }
   ],
   "source": [
    "test_feature = Feature('test', distribution_function=stats.norm(.4))\n",
    "test_feature.generate_data()\n"
   ]
  },
  {
   "cell_type": "code",
   "execution_count": 4,
   "metadata": {
    "collapsed": true
   },
   "outputs": [],
   "source": [
    "f_1 = Feature('Feature_1', distribution_function=stats.norm(.4))#lambda x: x**2)\n",
    "f_2 = Feature('Feature_2', distribution_function=stats.boltzmann(.4, N=19))#sin)\n",
    "\n",
    "features_list = [f_1, f_2]\n",
    "\n",
    "for feature in features_list:\n",
    "    feature.n_rows=10\n"
   ]
  },
  {
   "cell_type": "markdown",
   "metadata": {
    "collapsed": true
   },
   "source": [
    "## OLD PROCESS -- IGNORE"
   ]
  },
  {
   "cell_type": "code",
   "execution_count": 5,
   "metadata": {
    "collapsed": true
   },
   "outputs": [],
   "source": [
    "def generate_data(feature_list, n_rows, seed_column_distribution=stats.norm()):\n",
    "\n",
    "    seed_data = seed_column_distribution.rvs(size=n_rows)\n",
    "    dataframe = pd.DataFrame(data=seed_data.T, columns=['seed_column'])\n",
    "\n",
    "    for feature in feature_list:\n",
    "        feature.n_rows = n_rows\n",
    "        dataframe[feature.name] = feature.generate_data()\n",
    "#         dataframe[feature.name] = dataframe['seed_column'].apply(feature.distribution_function)\n",
    "        \n",
    "    return dataframe\n",
    "\n",
    "test_data = generate_data(features_list, n_rows=1000)\n"
   ]
  },
  {
   "cell_type": "code",
   "execution_count": 6,
   "metadata": {},
   "outputs": [
    {
     "data": {
      "text/plain": [
       "<matplotlib.axes._subplots.AxesSubplot at 0x1a09e7aa58>"
      ]
     },
     "execution_count": 6,
     "metadata": {},
     "output_type": "execute_result"
    },
    {
     "data": {
      "image/png": "[encoded data removed]",
      "text/plain": [
       "<matplotlib.figure.Figure at 0x1a09e7a470>"
      ]
     },
     "metadata": {},
     "output_type": "display_data"
    }
   ],
   "source": [
    "%matplotlib inline\n",
    "test_data.plot.scatter('Feature_1', 'Feature_2')\n",
    "# reduce, functional programming\n",
    "\n"
   ]
  },
  {
   "cell_type": "markdown",
   "metadata": {},
   "source": [
    "## Create a join distribution (IN PROGRESS)"
   ]
  },
  {
   "cell_type": "code",
   "execution_count": 14,
   "metadata": {
    "collapsed": true
   },
   "outputs": [],
   "source": [
    "import matplotlib.pyplot as plt"
   ]
  },
  {
   "cell_type": "code",
   "execution_count": 22,
   "metadata": {},
   "outputs": [
    {
     "data": {
      "image/png": "[encoded data removed]",
      "text/plain": [
       "<matplotlib.figure.Figure at 0x1a1528bc18>"
      ]
     },
     "metadata": {},
     "output_type": "display_data"
    },
    {
     "data": {
      "image/png": "[encoded data removed]",
      "text/plain": [
       "<matplotlib.figure.Figure at 0x1a15660240>"
      ]
     },
     "metadata": {},
     "output_type": "display_data"
    }
   ],
   "source": [
    "a = pd.DataFrame(np.outer(f_1.generate_data(), f_2.generate_data()))\n",
    "a[0].hist()\n",
    "plt.show()\n",
    "\n",
    "plt.hist(f_1.generate_data())\n",
    "plt.show()"
   ]
  },
  {
   "cell_type": "code",
   "execution_count": null,
   "metadata": {
    "collapsed": true
   },
   "outputs": [],
   "source": [
    "# Invert DataFrame\n"
   ]
  },
  {
   "cell_type": "code",
   "execution_count": null,
   "metadata": {
    "collapsed": true
   },
   "outputs": [],
   "source": []
  }
 ],
 "metadata": {
  "kernelspec": {
   "display_name": "Python 3",
   "language": "python",
   "name": "python3"
  },
  "language_info": {
   "codemirror_mode": {
    "name": "ipython",
    "version": 3
   },
   "file_extension": ".py",
   "mimetype": "text/x-python",
   "name": "python",
   "nbconvert_exporter": "python",
   "pygments_lexer": "ipython3",
   "version": "3.6.5"
  }
 },
 "nbformat": 4,
 "nbformat_minor": 2
}
