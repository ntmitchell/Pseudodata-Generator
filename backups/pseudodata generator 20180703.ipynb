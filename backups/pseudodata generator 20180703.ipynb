{
 "cells": [
  {
   "cell_type": "code",
   "execution_count": 1,
   "metadata": {},
   "outputs": [],
   "source": [
    "import pandas\n",
    "import numpy\n",
    "\n",
    "import seaborn\n",
    "import matplotlib.pyplot as plt\n",
    "\n",
    "%matplotlib inline\n"
   ]
  },
  {
   "cell_type": "code",
   "execution_count": 4,
   "metadata": {},
   "outputs": [
    {
     "name": "stdout",
     "output_type": "stream",
     "text": [
      "2.24 µs ± 105 ns per loop (mean ± std. dev. of 7 runs, 100000 loops each)\n"
     ]
    }
   ],
   "source": [
    "%%timeit\n",
    "numpy.random.binomial(10, .5, 10)"
   ]
  },
  {
   "cell_type": "code",
   "execution_count": 6,
   "metadata": {},
   "outputs": [
    {
     "name": "stdout",
     "output_type": "stream",
     "text": [
      "12.3 µs ± 885 ns per loop (mean ± std. dev. of 7 runs, 100000 loops each)\n"
     ]
    }
   ],
   "source": [
    "%%timeit \n",
    "[numpy.random.binomial(10, .5) for _ in range(10)]"
   ]
  },
  {
   "cell_type": "code",
   "execution_count": 33,
   "metadata": {},
   "outputs": [
    {
     "name": "stdout",
     "output_type": "stream",
     "text": [
      "numpy.random.binomial(10, .5, size=10)\n"
     ]
    },
    {
     "data": {
      "text/plain": [
       "array([3, 6, 3, 9, 4, 5, 5, 9, 5, 6])"
      ]
     },
     "execution_count": 33,
     "metadata": {},
     "output_type": "execute_result"
    }
   ],
   "source": [
    "\n",
    "dist_func_str = 'binomial(10, .5)'\n",
    "list_len = 10\n",
    "full_dist_func_str = 'numpy.random.{0}'.format(dist_func_str)\n",
    "if eval(full_dist_func_str):\n",
    "    try:\n",
    "        function_str = full_dist_func_str.replace(')', ', size={0})'.format(list_len))\n",
    "        print(function_str)\n",
    "        a = eval(function_str)\n",
    "    except:\n",
    "        print(full_dist_func_str)\n",
    "        a = eval(full_dist_func_str)\n",
    "a"
   ]
  },
  {
   "cell_type": "markdown",
   "metadata": {},
   "source": [
    "# Functions"
   ]
  },
  {
   "cell_type": "raw",
   "metadata": {},
   "source": [
    "def list_available_distributions():\n",
    "    \"\"\"Print out the univariate distributions available in numpy.random.\"\"\"\n",
    "    rand_docstring = numpy.random.__doc__\n",
    "    prefiltered_doc_string = rand_docstring.split('variate distributions')[1].split('\\n')\n",
    "    dist_filter = filter(lambda x: 'distribution' in x, prefiltered_doc_string)\n",
    "    dist_list = [element.split(' ')[0] for element in dist_filter]\n",
    "    return dist_list\n",
    "    \n",
    "    \n",
    "def make_data_list(list_len=10, distribution='normal'):\n",
    "    \"\"\"Creates a 1-D Numpy array of specified length using the specified univariate distribution function from Numpy.random.\"\"\"\n",
    "    # HOW CAN I LET USERS SPECIFY DISTRIBUTIONS? E.G., f(x) = 1\n",
    "    rand_method_call = 'numpy.random.{}()'.format(distribution)\n",
    "    result_list = [eval(rand_method_call) for _ in range(list_len)]\n",
    "    result_array = numpy.array(result_list)\n",
    "    return result_array\n",
    "\n",
    "\n",
    "def make_dataframe(array_1=None, array_2=None):\n",
    "    \"\"\"Create a DataFrame from the elementwise product of two iterables.\"\"\"\n",
    "\n",
    "    result_dataframe = pd.DataFrame(index=array_1, columns=array_2)\n",
    "    \n",
    "    # Iterative operations are generally faster if row length is greater than the number of columns.\n",
    "    if result_dataframe.shape[0] < result_dataframe.shape[1]:\n",
    "        result_dataframe = result_dataframe.T\n",
    "    \n",
    "    result_dataframe = result_dataframe.apply(lambda series: series.index) * result_dataframe.columns\n",
    "   \n",
    "    return result_dataframe\n",
    "\n",
    "\n",
    "\n",
    "def invert_dataframe(input_dataframe=None):\n",
    "    \"\"\"Inverts a DataFrame, where the values become the index and the column and row indicies become values.\"\"\"\n",
    "    if input_dataframe is None:\n",
    "        return None\n",
    "    \n",
    "    reshaped_dataframe = input_dataframe.stack().reset_index().set_index(0)\n",
    "    \n",
    "    feature_count = reshaped_dataframe.shape[1]\n",
    "    feature_names = list(range(feature_count))\n",
    "    reshaped_dataframe.columns = feature_names\n",
    "\n",
    "    return reshaped_dataframe.sort_index()\n",
    "\n",
    "\n",
    "def display_data(input_data=pandas.DataFrame()):\n",
    "    pass\n"
   ]
  },
  {
   "cell_type": "markdown",
   "metadata": {},
   "source": [
    "# Previous working functions"
   ]
  },
  {
   "cell_type": "code",
   "execution_count": 2,
   "metadata": {},
   "outputs": [],
   "source": [
    "# def make_dataframe(array_1=None, array_2=None):\n",
    "#     PREVIOUS VERSION\n",
    "#     \"\"\"Create a DataFrame from the elementwise product of two iterables.\"\"\"\n",
    "    \n",
    "#     if array_1 is None or array_2 is None:\n",
    "#         return None\n",
    "    \n",
    "#     if array_1.shape[0] < array_2.shape[0]:\n",
    "#         index_array = array_1\n",
    "#         column_array = array_2\n",
    "#     else:\n",
    "#         index_array = array_2\n",
    "#         column_array = array_1\n",
    "\n",
    "#     result_dataframe = pd.DataFrame(index=index_array, columns=column_array)\n",
    "#     for row in result_dataframe.iterrows():\n",
    "#         result_dataframe.loc[row[0]] = row[0] * result_dataframe.columns\n",
    "#     return result_dataframe\n"
   ]
  },
  {
   "cell_type": "markdown",
   "metadata": {},
   "source": [
    "# Experimental functions"
   ]
  },
  {
   "cell_type": "code",
   "execution_count": 3,
   "metadata": {},
   "outputs": [],
   "source": [
    "# ALLOW USER TO DEFINE CALLABLE AS DISTRIBUTION\n",
    "def EXPERIMENTAL_make_data_list_USER_FUNC(list_len=10, distribution='normal'):\n",
    "    \"\"\"Creates a 1-D Numpy array of specified length using the specified univariate distribution function from Numpy.random \n",
    "    OR A USER-DEFINED FUNCTION.\"\"\"\n",
    "    if distribution in list_available_distributions():\n",
    "        rand_method_call = 'numpy.random.{}'.format(distribution)\n",
    "    elif callable(eval(distribution)):\n",
    "        rand_method_call = distribution\n",
    "    else:\n",
    "        print(\"{} is not callable.\".format(distribution))\n",
    "        return None\n",
    "    \n",
    "    result_list = [eval(\"{}()\".format(rand_method_call)) for _ in range(list_len)]\n",
    "    result_array = numpy.array(result_list)\n",
    "    return result_array\n",
    "\n"
   ]
  },
  {
   "cell_type": "markdown",
   "metadata": {},
   "source": [
    "# Class structure"
   ]
  },
  {
   "cell_type": "code",
   "execution_count": null,
   "metadata": {},
   "outputs": [],
   "source": [
    "# class Feature:\n",
    "#     Feature(distribution_function, size)\n",
    "#         size = None\n",
    "#         function_str = \"\"\n",
    "#     def __init__(self, function_str, n_values=10):\n",
    "#         if callable(function_str):\n",
    "#             if 'size' not in function_str:\n",
    "#                 try: \n",
    "#                     modified_function_str = function_str.replace(')', ', size={0})'.format(n_values))\n",
    "#                     eval(modified_function_str)\n",
    "#                     self.function_str = modified_function_str\n",
    "#                 except:\n",
    "#                     pass\n",
    "#     def generate(self):\n",
    "#         function(size)"
   ]
  },
  {
   "cell_type": "code",
   "execution_count": null,
   "metadata": {},
   "outputs": [],
   "source": []
  },
  {
   "cell_type": "code",
   "execution_count": 4,
   "metadata": {},
   "outputs": [],
   "source": [
    "class Pseudodata:\n",
    "    \"\"\"\n",
    "    Anticipated workflow\n",
    "    1. Create Pseudodata instance.\n",
    "    2. Add two or more distribution arrays.\n",
    "    3. Generate an output pseudodata DataFrame from the distribution arrays.\n",
    "    4. Add an additional array to the dataset. Give option to update the pseudodata DataFrame automatically or manually (with method).\n",
    "    5. Output the pseudodata DataFrame as Pandas object. OPTIONAL OTHER FORMATS?\n",
    "    6. VISUALIZE THE DATAFRAME?\n",
    "    \n",
    "    Questions\n",
    "    1. How can more than two distribution arrays be combined?\n",
    "    2. How can a distribution array be incorporated into a DataFrame?\n",
    "    \n",
    "    Development plan\n",
    "    * Make data generation lazy. Adding distributions should only automatically update the data_profile dictionary; the user can change the option or run generate_dataframe or update_dataframe.\n",
    "    * Allow add_array to use non-Numpy distribution functions.\n",
    "    \n",
    "    Ideas to consider\n",
    "    * \"dataframe\" objects are tuples of the DataFrames and snapshots of data_profiles used for generation. I.e., dataframe = (data_profile, pandas.DataFrame).\n",
    "    * Distribution arrays should be stored. Advantage: able to reference values later and reconstruct DataFrame objects. Disadvantage: memory storage.\n",
    "    * DataFrames are best visualized with pairplots, especially for multiple (2+) dimensions.\n",
    "    * Users should have the option to export DataFrames as CSVs and SQL files.\n",
    "    \"\"\"\n",
    "    \n",
    "    data_profile = dict()\n",
    "    dataframe = pandas.DataFrame()\n",
    "    \n",
    "    \n",
    "    def __init__(self):\n",
    "        self._check_setup()\n",
    "        pass\n",
    "    \n",
    "    \n",
    "    def __call__(self):\n",
    "        pass\n",
    "    \n",
    "    \n",
    "    def _check_setup(self):\n",
    "        try:\n",
    "            modules\n",
    "        except:\n",
    "            from sys import modules\n",
    "        \n",
    "        for module in ['pandas', 'numpy']:\n",
    "            if module not in modules:\n",
    "                print(\"{} not imported\".format(module))\n",
    "    \n",
    "\n",
    "    def _make_data_array(self, list_len=10, distribution='normal'):\n",
    "        \"\"\"Creates a 1-D Numpy array of specified length using the specified univariate distribution function from Numpy.random.\"\"\"\n",
    "        rand_method_call = 'numpy.random.{0}{1}'.format(distribution, ('()', '')['(' in distribution])\n",
    "        result_list = [eval(rand_method_call) for _ in range(list_len)]\n",
    "        result_array = numpy.array(result_list)\n",
    "        return result_array\n",
    "\n",
    "\n",
    "    # PHASE OUT\n",
    "    # Create generate_dataframe method that either makes a DataFrame from one or more arrays,\n",
    "    #     or runs _update_dataframe if self.dataframe already exists.\n",
    "    def _make_dataframe(self, array_1=None, array_2=None):\n",
    "        \"\"\"Create a DataFrame from the elementwise product of two iterables.\"\"\"\n",
    "\n",
    "        result_dataframe = pd.DataFrame(index=array_1, columns=array_2)\n",
    "\n",
    "        # Iterative operations are generally faster if row length is greater than the number of columns.\n",
    "        if result_dataframe.shape[0] < result_dataframe.shape[1]:\n",
    "            result_dataframe = result_dataframe.T\n",
    "\n",
    "        result_dataframe = result_dataframe.apply(lambda series: series.index) * result_dataframe.columns\n",
    "\n",
    "        return result_dataframe\n",
    "    \n",
    "    \n",
    "    # TEST VERSION\n",
    "    def make_Nd_dataframe(arrays):\n",
    "        \"\"\"Handles N-dimensions.\"\"\"\n",
    "        grid = np.meshgrid(*arrays)\n",
    "        reshaped_grid = np.dstack(grid).reshape(-1, len(arrays))\n",
    "        dataframe = pd.DataFrame(reshaped_grid)\n",
    "        products = dataframe.product(axis=1)\n",
    "        dataframe.index = products\n",
    "        return dataframe.sort_index()\n",
    "    \n",
    "    \n",
    "    def _update_dataframe(self, data_array):\n",
    "        \"\"\"Incorporates one or more new arrays into the DataFrame.\"\"\"\n",
    "        pass\n",
    "    \n",
    "    \n",
    "#     def _add_array_to_dataframe(self):\n",
    "#         pass\n",
    "\n",
    "\n",
    "    def _invert_dataframe(self, input_dataframe=None):\n",
    "        \"\"\"Inverts a DataFrame, where the values become the index and the column and row indicies become values.\"\"\"\n",
    "        if input_dataframe is None:\n",
    "            return None\n",
    "        reshaped_dataframe = input_dataframe.stack().reset_index().set_index(0)\n",
    "        feature_count = reshaped_dataframe.shape[1]\n",
    "        feature_names = list(range(feature_count))\n",
    "        reshaped_dataframe.columns = feature_names\n",
    "        return reshaped_dataframe.sort_index()\n",
    "\n",
    "\n",
    "    def list_available_distributions(self, detailed_list=False):\n",
    "        \"\"\"Print out the univariate distributions available in numpy.random.\"\"\"\n",
    "        rand_docstring = numpy.random.__doc__\n",
    "        prefiltered_doc_string = rand_docstring.split('variate distributions')[1].split('\\n')\n",
    "        dist_filter = filter(lambda x: 'distribution' in x, prefiltered_doc_string)\n",
    "        dist_list = [element.split(' ')[0] for element in dist_filter]\n",
    "        \n",
    "        if detailed_list == False:\n",
    "            return dist_list\n",
    "        else:\n",
    "            detailed_dist_list = list()\n",
    "            for distribution in dist_list:\n",
    "                dist_docstring = eval(\"numpy.random.{}.__doc__\".format(distribution))\n",
    "                details = dist_docstring.split('\\n')[1].strip()\n",
    "                detailed_dist_list.append(details)\n",
    "            return detailed_dist_list\n",
    "    \n",
    "    \n",
    "    def add_array(self, array_len=10, distribution='normal', autoupdate_dataframe=False):\n",
    "        \"\"\"Adds a data array to the Pseudodata instance. \n",
    "        \n",
    "        Refer to Pseudodata.list_available_distributions() to see available distibution options. Examples:\n",
    "        a.add_array()\n",
    "        a.add_array(distribution='poisson')\n",
    "        a.add_array(distribution='binomial(10, .5)')\n",
    "        \"\"\"\n",
    "        data_array = self._make_data_array(array_len, distribution)\n",
    "        self._update_dataframe(data_array)\n",
    "        self.data_profile[len(self.data_profile)] = {'size': array_len, 'distribution': distribution}\n",
    "\n",
    "\n",
    "    def remove_array(self, data_array_index, regenerate_data=False):\n",
    "        \"\"\"Removes a data array by data profile index.\"\"\"\n",
    "        self.data_profile.pop(data_array_index, None)\n",
    "        if regenerate_data == True:\n",
    "            self.generate_data()\n",
    "\n",
    "    def generate_data(self):\n",
    "        \n",
    "        pass\n",
    "        \n",
    "    def show_data_profile(self):\n",
    "        \"\"\"Displays a description of the arrays in the Pseudodata instance as a DataFrame object.\"\"\"\n",
    "        return pandas.DataFrame(self.data_profile).T\n",
    "\n",
    "\n",
    "    def display_data(self, input_data):\n",
    "        pass\n"
   ]
  },
  {
   "cell_type": "code",
   "execution_count": 5,
   "metadata": {},
   "outputs": [],
   "source": [
    "a = Pseudodata()\n",
    "# a.list_available_distributions()"
   ]
  },
  {
   "cell_type": "code",
   "execution_count": 6,
   "metadata": {},
   "outputs": [],
   "source": [
    "a.add_array()\n",
    "a.add_array(distribution='poisson')\n",
    "a.add_array(distribution='binomial(10, 0.5)')\n",
    "a.add_array()\n"
   ]
  },
  {
   "cell_type": "code",
   "execution_count": 7,
   "metadata": {},
   "outputs": [
    {
     "data": {
      "text/html": [
       "<div>\n",
       "<style scoped>\n",
       "    .dataframe tbody tr th:only-of-type {\n",
       "        vertical-align: middle;\n",
       "    }\n",
       "\n",
       "    .dataframe tbody tr th {\n",
       "        vertical-align: top;\n",
       "    }\n",
       "\n",
       "    .dataframe thead th {\n",
       "        text-align: right;\n",
       "    }\n",
       "</style>\n",
       "<table border=\"1\" class=\"dataframe\">\n",
       "  <thead>\n",
       "    <tr style=\"text-align: right;\">\n",
       "      <th></th>\n",
       "      <th>distribution</th>\n",
       "      <th>size</th>\n",
       "    </tr>\n",
       "  </thead>\n",
       "  <tbody>\n",
       "    <tr>\n",
       "      <th>0</th>\n",
       "      <td>normal</td>\n",
       "      <td>10</td>\n",
       "    </tr>\n",
       "    <tr>\n",
       "      <th>1</th>\n",
       "      <td>poisson</td>\n",
       "      <td>10</td>\n",
       "    </tr>\n",
       "    <tr>\n",
       "      <th>2</th>\n",
       "      <td>binomial(10, 0.5)</td>\n",
       "      <td>10</td>\n",
       "    </tr>\n",
       "    <tr>\n",
       "      <th>3</th>\n",
       "      <td>normal</td>\n",
       "      <td>10</td>\n",
       "    </tr>\n",
       "  </tbody>\n",
       "</table>\n",
       "</div>"
      ],
      "text/plain": [
       "        distribution size\n",
       "0             normal   10\n",
       "1            poisson   10\n",
       "2  binomial(10, 0.5)   10\n",
       "3             normal   10"
      ]
     },
     "execution_count": 7,
     "metadata": {},
     "output_type": "execute_result"
    }
   ],
   "source": [
    "a.show_data_profile()"
   ]
  },
  {
   "cell_type": "code",
   "execution_count": 8,
   "metadata": {},
   "outputs": [
    {
     "data": {
      "text/html": [
       "<div>\n",
       "<style scoped>\n",
       "    .dataframe tbody tr th:only-of-type {\n",
       "        vertical-align: middle;\n",
       "    }\n",
       "\n",
       "    .dataframe tbody tr th {\n",
       "        vertical-align: top;\n",
       "    }\n",
       "\n",
       "    .dataframe thead th {\n",
       "        text-align: right;\n",
       "    }\n",
       "</style>\n",
       "<table border=\"1\" class=\"dataframe\">\n",
       "  <thead>\n",
       "    <tr style=\"text-align: right;\">\n",
       "      <th></th>\n",
       "      <th>distribution</th>\n",
       "      <th>size</th>\n",
       "    </tr>\n",
       "  </thead>\n",
       "  <tbody>\n",
       "    <tr>\n",
       "      <th>0</th>\n",
       "      <td>normal</td>\n",
       "      <td>10</td>\n",
       "    </tr>\n",
       "    <tr>\n",
       "      <th>1</th>\n",
       "      <td>poisson</td>\n",
       "      <td>10</td>\n",
       "    </tr>\n",
       "    <tr>\n",
       "      <th>2</th>\n",
       "      <td>binomial(10, 0.5)</td>\n",
       "      <td>10</td>\n",
       "    </tr>\n",
       "  </tbody>\n",
       "</table>\n",
       "</div>"
      ],
      "text/plain": [
       "        distribution size\n",
       "0             normal   10\n",
       "1            poisson   10\n",
       "2  binomial(10, 0.5)   10"
      ]
     },
     "execution_count": 8,
     "metadata": {},
     "output_type": "execute_result"
    }
   ],
   "source": [
    "a.remove_array(3)\n",
    "a.show_data_profile()"
   ]
  },
  {
   "cell_type": "code",
   "execution_count": 11,
   "metadata": {
    "scrolled": true
   },
   "outputs": [],
   "source": [
    "b = (a.data_profile, pandas.DataFrame())"
   ]
  },
  {
   "cell_type": "code",
   "execution_count": 15,
   "metadata": {},
   "outputs": [
    {
     "data": {
      "text/plain": [
       "True"
      ]
     },
     "execution_count": 15,
     "metadata": {},
     "output_type": "execute_result"
    }
   ],
   "source": [
    "b[0] == a.data_profile.copy()"
   ]
  },
  {
   "cell_type": "code",
   "execution_count": null,
   "metadata": {},
   "outputs": [],
   "source": [
    "a._make_data_array().nbytes  # PRINTS BYTESIZE OF ARRAYS. USE FOR STORAGE TESTING (IE, PRINT TOTAL SIZE FOR STORED V. NOT STORED)"
   ]
  },
  {
   "cell_type": "code",
   "execution_count": 41,
   "metadata": {},
   "outputs": [
    {
     "ename": "ValueError",
     "evalue": "aggfunc cannot be used without values.",
     "output_type": "error",
     "traceback": [
      "\u001b[0;31m---------------------------------------------------------------------------\u001b[0m",
      "\u001b[0;31mValueError\u001b[0m                                Traceback (most recent call last)",
      "\u001b[0;32m<ipython-input-41-a984d416bb6e>\u001b[0m in \u001b[0;36m<module>\u001b[0;34m()\u001b[0m\n\u001b[1;32m      1\u001b[0m \u001b[0mc\u001b[0m \u001b[0;34m=\u001b[0m \u001b[0mpandas\u001b[0m\u001b[0;34m.\u001b[0m\u001b[0mDataFrame\u001b[0m\u001b[0;34m(\u001b[0m\u001b[0;34m[\u001b[0m\u001b[0ma\u001b[0m\u001b[0;34m.\u001b[0m\u001b[0m_make_data_array\u001b[0m\u001b[0;34m(\u001b[0m\u001b[0;36m10\u001b[0m\u001b[0;34m)\u001b[0m\u001b[0;34m,\u001b[0m \u001b[0ma\u001b[0m\u001b[0;34m.\u001b[0m\u001b[0m_make_data_array\u001b[0m\u001b[0;34m(\u001b[0m\u001b[0;36m5\u001b[0m\u001b[0;34m)\u001b[0m\u001b[0;34m]\u001b[0m\u001b[0;34m)\u001b[0m\u001b[0;34m.\u001b[0m\u001b[0mT\u001b[0m\u001b[0;34m\u001b[0m\u001b[0m\n\u001b[1;32m      2\u001b[0m \u001b[0;31m# c.index = c.product(axis=1)\u001b[0m\u001b[0;34m\u001b[0m\u001b[0;34m\u001b[0m\u001b[0m\n\u001b[0;32m----> 3\u001b[0;31m \u001b[0mpandas\u001b[0m\u001b[0;34m.\u001b[0m\u001b[0mcrosstab\u001b[0m\u001b[0;34m(\u001b[0m\u001b[0mc\u001b[0m\u001b[0;34m[\u001b[0m\u001b[0;36m0\u001b[0m\u001b[0;34m]\u001b[0m\u001b[0;34m,\u001b[0m \u001b[0mc\u001b[0m\u001b[0;34m[\u001b[0m\u001b[0;36m1\u001b[0m\u001b[0;34m]\u001b[0m\u001b[0;34m,\u001b[0m \u001b[0maggfunc\u001b[0m\u001b[0;34m=\u001b[0m\u001b[0;34m'numpy.product'\u001b[0m\u001b[0;34m)\u001b[0m\u001b[0;34m\u001b[0m\u001b[0m\n\u001b[0m",
      "\u001b[0;32m~/miniconda3/lib/python3.6/site-packages/pandas/core/reshape/pivot.py\u001b[0m in \u001b[0;36mcrosstab\u001b[0;34m(index, columns, values, rownames, colnames, aggfunc, margins, margins_name, dropna, normalize)\u001b[0m\n\u001b[1;32m    458\u001b[0m \u001b[0;34m\u001b[0m\u001b[0m\n\u001b[1;32m    459\u001b[0m     \u001b[0;32mif\u001b[0m \u001b[0mvalues\u001b[0m \u001b[0;32mis\u001b[0m \u001b[0;32mNone\u001b[0m \u001b[0;32mand\u001b[0m \u001b[0maggfunc\u001b[0m \u001b[0;32mis\u001b[0m \u001b[0;32mnot\u001b[0m \u001b[0;32mNone\u001b[0m\u001b[0;34m:\u001b[0m\u001b[0;34m\u001b[0m\u001b[0m\n\u001b[0;32m--> 460\u001b[0;31m         \u001b[0;32mraise\u001b[0m \u001b[0mValueError\u001b[0m\u001b[0;34m(\u001b[0m\u001b[0;34m\"aggfunc cannot be used without values.\"\u001b[0m\u001b[0;34m)\u001b[0m\u001b[0;34m\u001b[0m\u001b[0m\n\u001b[0m\u001b[1;32m    461\u001b[0m \u001b[0;34m\u001b[0m\u001b[0m\n\u001b[1;32m    462\u001b[0m     \u001b[0;32mif\u001b[0m \u001b[0mvalues\u001b[0m \u001b[0;32mis\u001b[0m \u001b[0;32mnot\u001b[0m \u001b[0;32mNone\u001b[0m \u001b[0;32mand\u001b[0m \u001b[0maggfunc\u001b[0m \u001b[0;32mis\u001b[0m \u001b[0;32mNone\u001b[0m\u001b[0;34m:\u001b[0m\u001b[0;34m\u001b[0m\u001b[0m\n",
      "\u001b[0;31mValueError\u001b[0m: aggfunc cannot be used without values."
     ]
    }
   ],
   "source": [
    "c = pandas.DataFrame([a._make_data_array(10), a._make_data_array(5)]).T\n",
    "# c.index = c.product(axis=1)\n",
    "pandas.crosstab(c[0], c[1], aggfunc='numpy.product')"
   ]
  },
  {
   "cell_type": "markdown",
   "metadata": {},
   "source": [
    "# Experimental Features"
   ]
  },
  {
   "cell_type": "markdown",
   "metadata": {},
   "source": [
    "### Method chaining\n",
    "\n",
    "Example\n",
    "\n",
    ">`Pseudodata().add_array(100).add_array('binomial(10,0.5)').generate_dataframe()`"
   ]
  },
  {
   "cell_type": "code",
   "execution_count": null,
   "metadata": {},
   "outputs": [],
   "source": [
    "class Test:\n",
    "    value = list()\n",
    "    def __init__(self):\n",
    "        self.value = [1]\n",
    "    \n",
    "    def add_one(self, inplace=False):\n",
    "        self.value.append(self.value[-1] + 1)\n",
    "        return self\n",
    "    \n",
    "    def print_value(self):\n",
    "        print(self.value)\n",
    "        \n",
    "b = Test()\n",
    "b.add_one().add_one().add_one().add_one()\n",
    "print(\"b.print_value():\", b.print_value())\n",
    "\n"
   ]
  },
  {
   "cell_type": "code",
   "execution_count": null,
   "metadata": {},
   "outputs": [],
   "source": []
  }
 ],
 "metadata": {
  "kernelspec": {
   "display_name": "Python 3",
   "language": "python",
   "name": "python3"
  },
  "language_info": {
   "codemirror_mode": {
    "name": "ipython",
    "version": 3
   },
   "file_extension": ".py",
   "mimetype": "text/x-python",
   "name": "python",
   "nbconvert_exporter": "python",
   "pygments_lexer": "ipython3",
   "version": "3.6.5"
  }
 },
 "nbformat": 4,
 "nbformat_minor": 2
}
