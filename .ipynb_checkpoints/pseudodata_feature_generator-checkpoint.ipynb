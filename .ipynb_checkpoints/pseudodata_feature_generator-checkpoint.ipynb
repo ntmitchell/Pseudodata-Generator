{
 "cells": [
  {
   "cell_type": "markdown",
   "metadata": {},
   "source": [
    "# Description\n",
    "\n",
    "This script creates a data feature by computing the join distribution of N-many probability distributions. The output is a 1-D NumPy array.\n",
    "\n",
    "Using small distribution arrays leads to faster times, however complexity is reduced."
   ]
  },
  {
   "cell_type": "markdown",
   "metadata": {},
   "source": [
    "### Development notes\n",
    "\n",
    "Define _messiness_ as variations in data types or completeness.\n",
    "Define _noise_ as outliers.\n",
    "\n",
    "\n",
    "Let user set input distributions and desired length. Generation process is the same, but the output is a 1-D array.\n",
    "\n",
    "\n",
    "\n",
    "\n",
    "\n",
    "\n",
    "1. Create noise arguments in add_arrays:\n",
    "    * Research best method. Probably overlaying (by addition or multiplication) another random distribution.\n",
    "    * What argument to accept? Float between 0 and 1, where 0 is no noise, and 1 makes the array completely random?\n",
    "2. Create messiness:\n",
    "    * Apply messiness arguments to each feature after generating the dataframe.\n",
    "    * Let user specify percent of data that would be NaN.\n",
    "    * Let user specify percent of data that's incorrect type. (e.g., value = str(numerical_value); float_value = int(float_value))\n",
    "    * Let user specify percent of outliers.\n",
    "3. Downcasting in _make_arrays:\n",
    "    * Allow arrays to have other numerical data types. E.g., what if the distributions yield integers?\n"
   ]
  },
  {
   "cell_type": "markdown",
   "metadata": {},
   "source": [
    "### Currently working on ..."
   ]
  },
  {
   "cell_type": "markdown",
   "metadata": {},
   "source": [
    "**Initial conversion**\n",
    "* Adapting full script into single-array output."
   ]
  },
  {
   "cell_type": "code",
   "execution_count": 3,
   "metadata": {},
   "outputs": [],
   "source": [
    "import pandas\n",
    "import numpy\n",
    "\n",
    "import seaborn\n",
    "import matplotlib.pyplot as plt\n",
    "\n",
    "%matplotlib inline\n",
    "\n",
    "\n",
    "#DEBUGGING\n",
    "from pprint import pprint\n",
    "from time import time\n",
    "# import line_profiler\n",
    "# %load_ext line_profiler\n"
   ]
  },
  {
   "cell_type": "code",
   "execution_count": 30,
   "metadata": {
    "scrolled": true
   },
   "outputs": [],
   "source": [
    "class Pseudodata:\n",
    "    \"\"\"\n",
    "    Anticipated workflow\n",
    "    1. Create Pseudodata instance.\n",
    "    2. Add two or more distribution arrays.\n",
    "    3. Generate an output pseudodata DataFrame from the distribution arrays.\n",
    "    4. Add an additional array to the dataset. Give option to update the pseudodata DataFrame automatically or manually (with method).\n",
    "    5. Output the pseudodata DataFrame as Pandas object. OPTIONAL OTHER FORMATS?\n",
    "    6. VISUALIZE THE DATAFRAME?\n",
    "    \n",
    "    Development plan\n",
    "    * Add 'messiness' arguments\n",
    "    * Allow non-numerical data arrays; i.e., text. (MAP STRING VALUES TO NUMBERS, THEN SUBSTITUTE BACK AFTER MAKING DATAFRAME?)\n",
    "    \"\"\"\n",
    "#     reduced_memory = bool\n",
    "#     data_profile = dict()\n",
    "#     features_data = dict()\n",
    "#     dataframe = pandas.DataFrame()\n",
    "    \n",
    "    def __init__(self, noise_fraction=0.0, size=None, conserve_memory=False):\n",
    "        \"\"\"Downcast datatypes to reduce memory allocations.\"\"\"\n",
    "        self.noise_frac = noise_fraction\n",
    "        self.output_size = size\n",
    "        self.reduced_memory = conserve_memory\n",
    "        self.data_profile = dict()\n",
    "        self.features_data = dict()\n",
    "        self.dataframe = pandas.DataFrame()\n",
    "        self.pseudodata_array = numpy.array([0])\n",
    "        self._check_setup()\n",
    "    \n",
    "    def _check_setup(self):\n",
    "        try:\n",
    "            modules\n",
    "        except:\n",
    "            from sys import modules\n",
    "        for module in ['pandas', 'numpy']:\n",
    "            if module not in modules:\n",
    "                print(\"{} not imported\".format(module))\n",
    "\n",
    "    def get_profile(self):\n",
    "        \"\"\"Displays a description of the arrays in the Pseudodata instance as a DataFrame object.\"\"\"\n",
    "        return pandas.DataFrame(self.data_profile).T\n",
    "\n",
    "    def list_available_distributions(self, detailed_list=False):\n",
    "        \"\"\"Returns a list of the univariate distributions available in numpy.random.\"\"\"\n",
    "        rand_docstring = numpy.random.__doc__\n",
    "        prefiltered_doc_string = rand_docstring.split('variate distributions')[1].split('\\n')\n",
    "        dist_filter = filter(lambda x: 'distribution' in x, prefiltered_doc_string)\n",
    "        dist_list = [element.split(' ')[0] for element in dist_filter]\n",
    "        if detailed_list == False:\n",
    "            return dist_list\n",
    "        else:\n",
    "            detailed_dist_list = list()\n",
    "            for distribution in dist_list:\n",
    "                dist_docstring = eval(\"numpy.random.{}.__doc__\".format(distribution))\n",
    "                details = dist_docstring.split('\\n')[1].strip()\n",
    "                detailed_dist_list.append(details)\n",
    "            return detailed_dist_list    \n",
    "\n",
    "    def _is_evaluatable(self, input_string):\n",
    "        \"\"\"Used in _format_function_string(). Tests if a string refers to an object that can be evaluated.\"\"\"\n",
    "        try:\n",
    "            eval(input_string)\n",
    "            return True\n",
    "        except:\n",
    "            return False\n",
    "\n",
    "    def _is_callable(self, input_string):\n",
    "        \"\"\"Used in _format_function_string(). Tests if a string refers to a callable object.\"\"\"\n",
    "        try:\n",
    "            return callable(eval(input_string))\n",
    "        except:\n",
    "            return False\n",
    "\n",
    "    def _add_size_argument(self, input_string, size):\n",
    "        \"\"\"Used in _format_function_string(). Adds a size argument to distribution function string if applicable.\"\"\"\n",
    "        if 'size' in input_string or size == None:\n",
    "            return input_string\n",
    "        elif '()' in input_string:\n",
    "            return input_string.replace('()', '(size={0})'.format(size))\n",
    "        else:\n",
    "            return input_string.replace(')', ', size={0})'.format(size))\n",
    "\n",
    "    def _format_function_string(self, input_string, size_argument=None):\n",
    "        \"\"\"Used in _make_data_array. Makes any necessary changes to the distribution function string so that it can make feature data.\"\"\"\n",
    "        if input_string.split('(')[0] in self.list_available_distributions():\n",
    "            input_string = 'numpy.random.{0}'.format(input_string)\n",
    "        if self._is_evaluatable(input_string) == False:\n",
    "            return input_string\n",
    "        callable_string_cases = {True: input_string + \"()\", \n",
    "                                 False: input_string}\n",
    "        callable_string = callable_string_cases.get(self._is_callable(input_string))\n",
    "        test_string = self._add_size_argument(callable_string, size_argument)\n",
    "        try:\n",
    "            eval(test_string)\n",
    "            return test_string\n",
    "        except:\n",
    "            return callable_string\n",
    "    \n",
    "    def _make_distribution_array(self, distribution='normal', list_len=10):\n",
    "        \"\"\"Used in _add_feature(). Creates a 1-D Numpy array of specified length using the specified univariate distribution function from Numpy.random.\"\"\"\n",
    "        function_string = self._format_function_string(input_string=distribution, size_argument=list_len)\n",
    "        test_value = eval(function_string)\n",
    "        if isinstance(test_value, type(numpy.array([]))) or isinstance(test_value, list):\n",
    "            result = eval(function_string)\n",
    "        else:\n",
    "            result = [eval(function_string) for _ in range(list_len)]\n",
    "        result_array = numpy.array(result)\n",
    "        if self.reduced_memory == True:\n",
    "            result_array = result_array.astype('float32', casting='same_kind')\n",
    "        return result_array\n",
    "\n",
    "    def _make_Nd_dataframe(self, arrays, feature_suffix='', verbose_processing=False):\n",
    "        \"\"\"Used in _generate_dataframe(). Handles N-dimensions.\"\"\"\n",
    "        def verbose_message(string, end='\\n'):\n",
    "            if verbose_processing == True:\n",
    "                print(f\"{string}\", end=end)\n",
    "        n_points = numpy.product([array.shape[0] for array in arrays])\n",
    "        verbose_message(\"Generating DataFrame for {0:,} points.\".format(n_points))\n",
    "        verbose_message(\"Setting up data grid.\", end=\" \")\n",
    "        grid = numpy.meshgrid(*arrays)\n",
    "        verbose_message(\"Reshaping data grid.\", end=\" \")\n",
    "        transposed_grid = numpy.transpose(grid)\n",
    "        raveled_grid = transposed_grid.ravel()\n",
    "        reshaped_grid = raveled_grid.reshape(-1, len(arrays))\n",
    "        verbose_message(\"Calculating products.\", end=\" \")\n",
    "        product_array = numpy.product(reshaped_grid, axis=1)\n",
    "        verbose_message(\"Creating sorted DataFrame.\", end=\" \")\n",
    "#         sorted_index = product_array.argsort()\n",
    "        dataframe = pandas.DataFrame(reshaped_grid)#[sorted_index, :])\n",
    "        for column in dataframe:\n",
    "            feature_name = \"{0}{1}\".format(feature_suffix, column)\n",
    "            self.data_profile[column]['feature_name'] = feature_name\n",
    "        dataframe.columns = [\"{0}{1}\".format(feature_suffix, column) for column in dataframe.columns]  \n",
    "        dataframe['product'] =product_array#[sorted_index]\n",
    "        verbose_message(\"Done.\", end=\" \")\n",
    "        return dataframe\n",
    "    \n",
    "    def add_feature(self, distribution='normal', size=10, remake_dataframe=False):\n",
    "        \"\"\"Adds a 1-D data array to the Pseudodata instance of a specified length with noise applied to a fraction ofpoints. (Note: noise is applied when generating the DataFrame.) \n",
    "        \n",
    "        In addition to user-created distribution functions, refer to Pseudodata.list_available_distributions() to see available distibution options. \n",
    "        \n",
    "        Examples:\n",
    "        Pseudodata_instance.add_array()\n",
    "        Pseudodata_instance.add_array(distribution='poisson')\n",
    "        Pseudodata_instance.add_array(distribution='binomial(10, .5, size=10)')\n",
    "        Pseudodata_instance.add_array(distribution='logistic(loc=5.0, scale=2.0)', size=10)\n",
    "        \"\"\"\n",
    "        data_array = self._make_distribution_array(distribution=distribution, list_len=size)\n",
    "        feature_id = max(self.data_profile.keys(), default=-1) + 1\n",
    "        self.data_profile[feature_id] = {'feature_name': feature_id,\n",
    "                                         'size': data_array.shape[0], \n",
    "                                         'distribution': distribution}\n",
    "        self.features_data[feature_id] = data_array\n",
    "        if remake_dataframe == True:\n",
    "            self._make_Nd_dataframe(self.features_data.values())\n",
    "\n",
    "    def _add_noise(self):\n",
    "        \"\"\"Adds simple noise in-place by randomly translating a fraction of points.\"\"\"\n",
    "        if self.noise_frac != 0:\n",
    "            sample_index = self.dataframe.loc[:, 'product'].sample(frac=self.noise_frac).index\n",
    "            size = sample_index.shape[0]\n",
    "            min_max_tuple = (self.dataframe.loc[:, 'product'].min(), self.dataframe.loc[:, 'product'].max())\n",
    "            generator = (numpy.random.uniform(*min_max_tuple) for _ in range(size))\n",
    "            precision = (self.dataframe.loc[:, 'product'].dtype, numpy.float32)[self.reduced_memory == True]\n",
    "            noise_translation_array = numpy.fromiter(generator, precision, count=size)            \n",
    "            self.dataframe.loc[sample_index, 'product'] = noise_translation_array\n",
    "    \n",
    "    def remove_feature(self, feature_index, remake_dataframe=False):\n",
    "        \"\"\"Removes a feature by data profile index.\"\"\"\n",
    "        self.data_profile.pop(feature_index, None)\n",
    "        self.features_data.pop(feature_index, None)\n",
    "        if remake_dataframe == True:\n",
    "            self._make_Nd_dataframe(self.features_data.values())\n",
    "            \n",
    "#     def remove_all_features(self, clear_dataframe=False):\n",
    "#         \"\"\"Deletes all data features, with an option to remove the DataFrame.\"\"\"\n",
    "#         self.data_profile = dict()\n",
    "#         self.features_data = dict()\n",
    "#         if clear_dataframe == True:\n",
    "#             self.dataframe = pandas.DataFrame()\n",
    "            \n",
    "    def generate_pseudodata(self, feature_index_list=None, feature_name_suffix='feature_', return_full_data=False, verbose=False):\n",
    "        \"\"\"Generates a new dataframe from all features in the Pseudodata instance or from a specified list of data profile indicies.\n",
    "        There is an option to reduce memory size of the dataframe by downcasting, which can significantly cut memory by reducing data precision.\"\"\"\n",
    "        def verbose_message(string, end='\\n'):\n",
    "            if verbose == True:\n",
    "                print(string, end=end)\n",
    "        if feature_index_list != None:\n",
    "            for item in feature_index_list:\n",
    "                if item not in self.data_profile:\n",
    "                    raise KeyError(\"{0} is not in the data profile.\".format(item))\n",
    "            verbose_message(\"Collecting data.\")\n",
    "            filtered_features_data = [self.features_data.get(key) for key in feature_index]\n",
    "            feature_array = numpy.array(filtered_features_data)\n",
    "            verbose_message(\"Making DataFrame\")\n",
    "            self.dataframe = self._make_Nd_dataframe(feature_array, feature_suffix=feature_name_suffix, verbose_processing=verbose)\n",
    "            verbose_message(\"\\nAdding feature noise.\")\n",
    "            self._add_noise(feature_index)\n",
    "            self.pseudodata_array = self.dataframe.loc[:, 'product']\n",
    "        else:\n",
    "            verbose_message(\"Making DataFrame\")\n",
    "            self.dataframe = self._make_Nd_dataframe(self.features_data.values(), feature_suffix=feature_name_suffix, verbose_processing=verbose)\n",
    "            verbose_message(\"\\nAdding feature noise.\")\n",
    "            self._add_noise()\n",
    "            self.pseudodata_array = self.dataframe.loc[:, 'product']\n",
    "        verbose_message(\"Generation complete. The data can be reviewed with Pseudodata.get_data().\")\n",
    "        if self.output_size == None:\n",
    "            self.output_size = self.dataframe.shape[0]\n",
    "        if return_full_data == True:\n",
    "            return self.pseudodata_array\n",
    "\n",
    "    def get_data(self):\n",
    "        \"\"\"Returns the pandas.DataFrame for the Pseudodata instance.\"\"\"\n",
    "        if self.dataframe.shape[0] != 0:\n",
    "            # Get sample to match self.output_size\n",
    "            if self.dataframe.shape[0] != self.output_size:\n",
    "                return numpy.random.choice(self.pseudodata_array, size=self.output_size)\n",
    "            else:\n",
    "                return self.pseudodata_array\n",
    "        \n",
    "    def get_feature_data(self, feature_index=None):\n",
    "        \"\"\"Returns data for specific feature according to its data profile index.\"\"\"\n",
    "        pass\n",
    "    \n",
    "    def export_dataframe(self, filename = 'pseudodata_export', filepath='.', extension='csv'):\n",
    "        \"\"\"Creates a CSV file. The default output location is the current working directory.\"\"\"\n",
    "        pass\n",
    "        self.dataframe.to_csv(\"{filepath}/{filename}.csv\".replace('//', '/'))\n",
    "        \n",
    "    def regenerate_feature(self, feature_index):\n",
    "        \"\"\"Resamples a specific feature according to its data profile index.\"\"\"\n",
    "        pass\n",
    "        feature_details = self.data_profile.get(feature_index)\n",
    "        data_array = self._make_data_array(feature_details[0].get('size'), feature_details['distribution'])\n",
    "        self.features_data[feature_index] = data_array\n",
    "\n",
    "    # CHANGE: change name to plot_data; show as histogram or sorted linear plot\n",
    "    def plot_pseudodata(self, plot_type='histogram'):\n",
    "        \"\"\"Plots a DataFrame using the index as the x-axis.\"\"\"\n",
    "        if plot_type == 'histogram':\n",
    "            self.dataframe['product'].hist()\n",
    "        else:\n",
    "            x_values = self.dataframe.index\n",
    "            for column in self.dataframe:\n",
    "                plt.scatter(x_values, self.dataframe[column], marker='+')\n",
    "            plt.legend(self.dataframe.columns)\n",
    "            plt.show()\n",
    "        "
   ]
  },
  {
   "cell_type": "markdown",
   "metadata": {},
   "source": [
    "### General usage"
   ]
  },
  {
   "cell_type": "markdown",
   "metadata": {},
   "source": [
    "**Initialize insance**"
   ]
  },
  {
   "cell_type": "code",
   "execution_count": 66,
   "metadata": {},
   "outputs": [],
   "source": [
    "pseudodata = Pseudodata(noise_fraction=0.1, size=1000000, conserve_memory=True)\n"
   ]
  },
  {
   "cell_type": "code",
   "execution_count": 67,
   "metadata": {
    "scrolled": true
   },
   "outputs": [
    {
     "data": {
      "text/plain": [
       "['beta(a, b, size=None)',\n",
       " 'binomial(n, p, size=None)',\n",
       " 'chisquare(df, size=None)',\n",
       " 'exponential(scale=1.0, size=None)',\n",
       " 'f(dfnum, dfden, size=None)']"
      ]
     },
     "execution_count": 67,
     "metadata": {},
     "output_type": "execute_result"
    }
   ],
   "source": [
    "pseudodata.list_available_distributions(detailed_list=True)[0:5]\n"
   ]
  },
  {
   "cell_type": "markdown",
   "metadata": {},
   "source": [
    "**Add distributions to generate pseudodata**"
   ]
  },
  {
   "cell_type": "code",
   "execution_count": 68,
   "metadata": {
    "scrolled": false
   },
   "outputs": [
    {
     "data": {
      "text/html": [
       "<div>\n",
       "<style scoped>\n",
       "    .dataframe tbody tr th:only-of-type {\n",
       "        vertical-align: middle;\n",
       "    }\n",
       "\n",
       "    .dataframe tbody tr th {\n",
       "        vertical-align: top;\n",
       "    }\n",
       "\n",
       "    .dataframe thead th {\n",
       "        text-align: right;\n",
       "    }\n",
       "</style>\n",
       "<table border=\"1\" class=\"dataframe\">\n",
       "  <thead>\n",
       "    <tr style=\"text-align: right;\">\n",
       "      <th></th>\n",
       "      <th>distribution</th>\n",
       "      <th>feature_name</th>\n",
       "      <th>size</th>\n",
       "    </tr>\n",
       "  </thead>\n",
       "  <tbody>\n",
       "    <tr>\n",
       "      <th>0</th>\n",
       "      <td>normal</td>\n",
       "      <td>0</td>\n",
       "      <td>10</td>\n",
       "    </tr>\n",
       "    <tr>\n",
       "      <th>1</th>\n",
       "      <td>normal</td>\n",
       "      <td>1</td>\n",
       "      <td>100</td>\n",
       "    </tr>\n",
       "    <tr>\n",
       "      <th>2</th>\n",
       "      <td>poisson</td>\n",
       "      <td>2</td>\n",
       "      <td>5</td>\n",
       "    </tr>\n",
       "    <tr>\n",
       "      <th>3</th>\n",
       "      <td>normal(loc=500, size=100)</td>\n",
       "      <td>3</td>\n",
       "      <td>100</td>\n",
       "    </tr>\n",
       "    <tr>\n",
       "      <th>4</th>\n",
       "      <td>my_function</td>\n",
       "      <td>4</td>\n",
       "      <td>50</td>\n",
       "    </tr>\n",
       "  </tbody>\n",
       "</table>\n",
       "</div>"
      ],
      "text/plain": [
       "                distribution feature_name size\n",
       "0                     normal            0   10\n",
       "1                     normal            1  100\n",
       "2                    poisson            2    5\n",
       "3  normal(loc=500, size=100)            3  100\n",
       "4                my_function            4   50"
      ]
     },
     "execution_count": 68,
     "metadata": {},
     "output_type": "execute_result"
    }
   ],
   "source": [
    "\n",
    "pseudodata.add_feature()\n",
    "pseudodata.add_feature(size=100)\n",
    "pseudodata.add_feature(size=5, distribution='poisson')\n",
    "pseudodata.add_feature(distribution='normal(loc=500, size=100)')\n",
    "\n",
    "my_generator = (number / 37.0 for number in range(38))\n",
    "def my_function():\n",
    "    global my_generator\n",
    "    try:\n",
    "        return next(my_generator)\n",
    "    except:\n",
    "        my_generator = (number / 37.0 for number in range(38))\n",
    "        return next(my_generator)\n",
    "pseudodata.add_feature(distribution='my_function', size=50)\n",
    "\n",
    "pseudodata.get_profile()\n"
   ]
  },
  {
   "cell_type": "markdown",
   "metadata": {},
   "source": [
    "**Generate pseudodata column and describe DataFrame**"
   ]
  },
  {
   "cell_type": "code",
   "execution_count": 74,
   "metadata": {},
   "outputs": [
    {
     "name": "stdout",
     "output_type": "stream",
     "text": [
      "Making DataFrame\n",
      "Generating DataFrame for 25,000,000 points.\n",
      "Setting up data grid. Reshaping data grid. Calculating products. Creating sorted DataFrame. Done. \n",
      "Adding feature noise.\n",
      "Generation complete. The data can be reviewed with Pseudodata.get_data().\n",
      "25,000,000 rows, 6 columns.\n"
     ]
    },
    {
     "data": {
      "text/html": [
       "<div>\n",
       "<style scoped>\n",
       "    .dataframe tbody tr th:only-of-type {\n",
       "        vertical-align: middle;\n",
       "    }\n",
       "\n",
       "    .dataframe tbody tr th {\n",
       "        vertical-align: top;\n",
       "    }\n",
       "\n",
       "    .dataframe thead th {\n",
       "        text-align: right;\n",
       "    }\n",
       "</style>\n",
       "<table border=\"1\" class=\"dataframe\">\n",
       "  <thead>\n",
       "    <tr style=\"text-align: right;\">\n",
       "      <th></th>\n",
       "      <th>feature_0</th>\n",
       "      <th>feature_1</th>\n",
       "      <th>feature_2</th>\n",
       "      <th>feature_3</th>\n",
       "      <th>feature_4</th>\n",
       "      <th>product</th>\n",
       "    </tr>\n",
       "  </thead>\n",
       "  <tbody>\n",
       "    <tr>\n",
       "      <th>0</th>\n",
       "      <td>-1.932193</td>\n",
       "      <td>-0.083910</td>\n",
       "      <td>0.0</td>\n",
       "      <td>499.435608</td>\n",
       "      <td>0.027027</td>\n",
       "      <td>0.000000</td>\n",
       "    </tr>\n",
       "    <tr>\n",
       "      <th>1</th>\n",
       "      <td>-1.932193</td>\n",
       "      <td>1.610819</td>\n",
       "      <td>0.0</td>\n",
       "      <td>499.435608</td>\n",
       "      <td>0.027027</td>\n",
       "      <td>-0.000000</td>\n",
       "    </tr>\n",
       "    <tr>\n",
       "      <th>2</th>\n",
       "      <td>-1.932193</td>\n",
       "      <td>-1.263744</td>\n",
       "      <td>0.0</td>\n",
       "      <td>499.435608</td>\n",
       "      <td>0.027027</td>\n",
       "      <td>-423.152649</td>\n",
       "    </tr>\n",
       "    <tr>\n",
       "      <th>3</th>\n",
       "      <td>-1.932193</td>\n",
       "      <td>-2.001034</td>\n",
       "      <td>0.0</td>\n",
       "      <td>499.435608</td>\n",
       "      <td>0.027027</td>\n",
       "      <td>0.000000</td>\n",
       "    </tr>\n",
       "    <tr>\n",
       "      <th>4</th>\n",
       "      <td>-1.932193</td>\n",
       "      <td>-0.472547</td>\n",
       "      <td>0.0</td>\n",
       "      <td>499.435608</td>\n",
       "      <td>0.027027</td>\n",
       "      <td>0.000000</td>\n",
       "    </tr>\n",
       "  </tbody>\n",
       "</table>\n",
       "</div>"
      ],
      "text/plain": [
       "   feature_0  feature_1  feature_2   feature_3  feature_4     product\n",
       "0  -1.932193  -0.083910        0.0  499.435608   0.027027    0.000000\n",
       "1  -1.932193   1.610819        0.0  499.435608   0.027027   -0.000000\n",
       "2  -1.932193  -1.263744        0.0  499.435608   0.027027 -423.152649\n",
       "3  -1.932193  -2.001034        0.0  499.435608   0.027027    0.000000\n",
       "4  -1.932193  -0.472547        0.0  499.435608   0.027027    0.000000"
      ]
     },
     "execution_count": 74,
     "metadata": {},
     "output_type": "execute_result"
    }
   ],
   "source": [
    "pseudodata.generate_pseudodata(verbose=True)\n",
    "dataframe = pseudodata.dataframe\n",
    "print(\"{0:,} rows, {1} columns.\".format(*dataframe.shape))\n",
    "dataframe.head()\n"
   ]
  },
  {
   "cell_type": "code",
   "execution_count": 84,
   "metadata": {},
   "outputs": [
    {
     "data": {
      "text/html": [
       "<div>\n",
       "<style scoped>\n",
       "    .dataframe tbody tr th:only-of-type {\n",
       "        vertical-align: middle;\n",
       "    }\n",
       "\n",
       "    .dataframe tbody tr th {\n",
       "        vertical-align: top;\n",
       "    }\n",
       "\n",
       "    .dataframe thead th {\n",
       "        text-align: right;\n",
       "    }\n",
       "</style>\n",
       "<table border=\"1\" class=\"dataframe\">\n",
       "  <thead>\n",
       "    <tr style=\"text-align: right;\">\n",
       "      <th></th>\n",
       "      <th>feature_0</th>\n",
       "      <th>feature_1</th>\n",
       "      <th>feature_2</th>\n",
       "      <th>feature_3</th>\n",
       "      <th>feature_4</th>\n",
       "      <th>product</th>\n",
       "    </tr>\n",
       "  </thead>\n",
       "  <tbody>\n",
       "    <tr>\n",
       "      <th>count</th>\n",
       "      <td>2.500000e+07</td>\n",
       "      <td>2.500000e+07</td>\n",
       "      <td>2.500000e+07</td>\n",
       "      <td>2.500000e+07</td>\n",
       "      <td>2.500000e+07</td>\n",
       "      <td>2.500000e+07</td>\n",
       "    </tr>\n",
       "    <tr>\n",
       "      <th>mean</th>\n",
       "      <td>5.393190e-02</td>\n",
       "      <td>-1.378546e-01</td>\n",
       "      <td>1.600000e+00</td>\n",
       "      <td>5.000072e+02</td>\n",
       "      <td>4.221621e-01</td>\n",
       "      <td>2.048489e+01</td>\n",
       "    </tr>\n",
       "    <tr>\n",
       "      <th>std</th>\n",
       "      <td>1.031405e+00</td>\n",
       "      <td>8.968619e-01</td>\n",
       "      <td>1.019804e+00</td>\n",
       "      <td>9.230072e-01</td>\n",
       "      <td>2.967016e-01</td>\n",
       "      <td>1.113183e+03</td>\n",
       "    </tr>\n",
       "    <tr>\n",
       "      <th>min</th>\n",
       "      <td>-1.932193e+00</td>\n",
       "      <td>-2.001034e+00</td>\n",
       "      <td>0.000000e+00</td>\n",
       "      <td>4.976666e+02</td>\n",
       "      <td>0.000000e+00</td>\n",
       "      <td>-5.373252e+03</td>\n",
       "    </tr>\n",
       "    <tr>\n",
       "      <th>25%</th>\n",
       "      <td>-5.629722e-01</td>\n",
       "      <td>-7.774858e-01</td>\n",
       "      <td>1.000000e+00</td>\n",
       "      <td>4.993186e+02</td>\n",
       "      <td>1.621622e-01</td>\n",
       "      <td>-7.289756e+01</td>\n",
       "    </tr>\n",
       "    <tr>\n",
       "      <th>50%</th>\n",
       "      <td>-2.765686e-02</td>\n",
       "      <td>-4.831049e-02</td>\n",
       "      <td>2.000000e+00</td>\n",
       "      <td>4.998421e+02</td>\n",
       "      <td>3.378378e-01</td>\n",
       "      <td>0.000000e+00</td>\n",
       "    </tr>\n",
       "    <tr>\n",
       "      <th>75%</th>\n",
       "      <td>9.072795e-01</td>\n",
       "      <td>3.642866e-01</td>\n",
       "      <td>2.000000e+00</td>\n",
       "      <td>5.006874e+02</td>\n",
       "      <td>6.756757e-01</td>\n",
       "      <td>7.936781e+01</td>\n",
       "    </tr>\n",
       "    <tr>\n",
       "      <th>max</th>\n",
       "      <td>1.579889e+00</td>\n",
       "      <td>1.846022e+00</td>\n",
       "      <td>3.000000e+00</td>\n",
       "      <td>5.021443e+02</td>\n",
       "      <td>1.000000e+00</td>\n",
       "      <td>5.824447e+03</td>\n",
       "    </tr>\n",
       "  </tbody>\n",
       "</table>\n",
       "</div>"
      ],
      "text/plain": [
       "          feature_0     feature_1     feature_2     feature_3     feature_4  \\\n",
       "count  2.500000e+07  2.500000e+07  2.500000e+07  2.500000e+07  2.500000e+07   \n",
       "mean   5.393190e-02 -1.378546e-01  1.600000e+00  5.000072e+02  4.221621e-01   \n",
       "std    1.031405e+00  8.968619e-01  1.019804e+00  9.230072e-01  2.967016e-01   \n",
       "min   -1.932193e+00 -2.001034e+00  0.000000e+00  4.976666e+02  0.000000e+00   \n",
       "25%   -5.629722e-01 -7.774858e-01  1.000000e+00  4.993186e+02  1.621622e-01   \n",
       "50%   -2.765686e-02 -4.831049e-02  2.000000e+00  4.998421e+02  3.378378e-01   \n",
       "75%    9.072795e-01  3.642866e-01  2.000000e+00  5.006874e+02  6.756757e-01   \n",
       "max    1.579889e+00  1.846022e+00  3.000000e+00  5.021443e+02  1.000000e+00   \n",
       "\n",
       "            product  \n",
       "count  2.500000e+07  \n",
       "mean   2.048489e+01  \n",
       "std    1.113183e+03  \n",
       "min   -5.373252e+03  \n",
       "25%   -7.289756e+01  \n",
       "50%    0.000000e+00  \n",
       "75%    7.936781e+01  \n",
       "max    5.824447e+03  "
      ]
     },
     "execution_count": 84,
     "metadata": {},
     "output_type": "execute_result"
    }
   ],
   "source": [
    "dataframe.describe()"
   ]
  },
  {
   "cell_type": "code",
   "execution_count": 77,
   "metadata": {},
   "outputs": [
    {
     "data": {
      "image/png": "[encoded data removed]",
      "text/plain": [
       "<Figure size 432x288 with 6 Axes>"
      ]
     },
     "metadata": {},
     "output_type": "display_data"
    }
   ],
   "source": [
    "dataframe.drop('product', axis=1).hist()\n",
    "plt.show()"
   ]
  },
  {
   "cell_type": "markdown",
   "metadata": {},
   "source": [
    "**Examine pseudodata results**"
   ]
  },
  {
   "cell_type": "code",
   "execution_count": 94,
   "metadata": {},
   "outputs": [
    {
     "data": {
      "text/plain": [
       "array([ 2.5044912e+03, -6.0648937e+01,  5.8322496e+00, -7.5297803e+02,\n",
       "        4.6744876e+02,  0.0000000e+00,  1.9121016e+02, -1.8607568e+03,\n",
       "       -2.2725563e+00, -1.3164122e+03], dtype=float32)"
      ]
     },
     "execution_count": 94,
     "metadata": {},
     "output_type": "execute_result"
    }
   ],
   "source": [
    "pseudodata.get_data()[0:10]"
   ]
  },
  {
   "cell_type": "code",
   "execution_count": 95,
   "metadata": {},
   "outputs": [
    {
     "data": {
      "text/plain": [
       "count    2.500000e+07\n",
       "mean     2.048489e+01\n",
       "std      1.113183e+03\n",
       "min     -5.373252e+03\n",
       "25%     -7.289756e+01\n",
       "50%      0.000000e+00\n",
       "75%      7.936781e+01\n",
       "max      5.824447e+03\n",
       "Name: product, dtype: float64"
      ]
     },
     "execution_count": 95,
     "metadata": {},
     "output_type": "execute_result"
    }
   ],
   "source": [
    "pseudodata.dataframe['product'].describe()"
   ]
  },
  {
   "cell_type": "code",
   "execution_count": 96,
   "metadata": {},
   "outputs": [
    {
     "data": {
      "image/png": "[encoded data removed]",
      "text/plain": [
       "<Figure size 432x288 with 1 Axes>"
      ]
     },
     "metadata": {},
     "output_type": "display_data"
    }
   ],
   "source": [
    "pseudodata.plot_pseudodata()"
   ]
  },
  {
   "cell_type": "markdown",
   "metadata": {},
   "source": [
    "### Comparing memory savings\n"
   ]
  },
  {
   "cell_type": "code",
   "execution_count": 97,
   "metadata": {},
   "outputs": [
    {
     "name": "stdout",
     "output_type": "stream",
     "text": [
      "1.22 s ± 7.2 ms per loop (mean ± std. dev. of 7 runs, 1 loop each)\n",
      "<class 'pandas.core.frame.DataFrame'>\n",
      "RangeIndex: 6250000 entries, 0 to 6249999\n",
      "Data columns (total 5 columns):\n",
      "feature_0    float64\n",
      "feature_1    float64\n",
      "feature_2    float64\n",
      "feature_3    float64\n",
      "product      float64\n",
      "dtypes: float64(5)\n",
      "memory usage: 238.4 MB\n"
     ]
    }
   ],
   "source": [
    "regular_instance = Pseudodata()\n",
    "\n",
    "for _ in range(4):\n",
    "    regular_instance.add_feature(size=50)\n",
    "\n",
    "%timeit regular_instance.generate_pseudodata()\n",
    "regular_instance.generate_pseudodata()\n",
    "regular_instance.dataframe.info()\n"
   ]
  },
  {
   "cell_type": "code",
   "execution_count": 98,
   "metadata": {},
   "outputs": [
    {
     "name": "stdout",
     "output_type": "stream",
     "text": [
      "806 ms ± 50.1 ms per loop (mean ± std. dev. of 7 runs, 1 loop each)\n",
      "<class 'pandas.core.frame.DataFrame'>\n",
      "RangeIndex: 6250000 entries, 0 to 6249999\n",
      "Data columns (total 5 columns):\n",
      "feature_0    float32\n",
      "feature_1    float32\n",
      "feature_2    float32\n",
      "feature_3    float32\n",
      "product      float32\n",
      "dtypes: float32(5)\n",
      "memory usage: 119.2 MB\n"
     ]
    }
   ],
   "source": [
    "reduced_instance = Pseudodata(conserve_memory=True)\n",
    "\n",
    "for _ in range(4):\n",
    "    reduced_instance.add_feature(size=50)\n",
    "\n",
    "%timeit reduced_instance.generate_pseudodata()\n",
    "reduced_instance.generate_pseudodata()\n",
    "reduced_instance.dataframe.info()\n"
   ]
  },
  {
   "cell_type": "markdown",
   "metadata": {},
   "source": [
    "# Experimental Features"
   ]
  },
  {
   "cell_type": "markdown",
   "metadata": {},
   "source": [
    "### Formatting function strings\n",
    "Make `test` wrapper to contain `try`/`except` block."
   ]
  },
  {
   "cell_type": "code",
   "execution_count": null,
   "metadata": {
    "collapsed": true
   },
   "outputs": [],
   "source": [
    "# def test(function):\n",
    "#     def wrapper(*args):\n",
    "#         function(*args)\n",
    "#     return wrapper\n",
    "\n",
    "def test(function):\n",
    "    def wrapper(*args):\n",
    "        try:\n",
    "            print(\"Function result:\", function(*args))\n",
    "            return True\n",
    "        except:\n",
    "            return False\n",
    "    return wrapper\n",
    "\n",
    "@test\n",
    "def iscallable(string):\n",
    "    \"\"\"Tests if the string represents a callable function.\"\"\"\n",
    "    return callable(eval(string))\n",
    "\n",
    "@test\n",
    "def iseval(string):\n",
    "    \"\"\"Tests if the string represents an evaluatable object.\"\"\"\n",
    "    return eval(string)\n",
    "\n",
    "# print(iseval(1))\n",
    "# print(iseval(\"1\"))\n",
    "# print(eval(\"1\"))\n",
    "\n",
    "print(iscallable(\"1\"))\n",
    "print(callable(eval(1)))\n"
   ]
  },
  {
   "cell_type": "markdown",
   "metadata": {},
   "source": [
    "### Method chaining\n",
    "\n",
    "Example\n",
    "\n",
    ">`Pseudodata().add_array(100).add_array('binomial(10,0.5)').generate_dataframe()`"
   ]
  },
  {
   "cell_type": "code",
   "execution_count": null,
   "metadata": {
    "collapsed": true
   },
   "outputs": [],
   "source": [
    "class Test:\n",
    "    value = list()\n",
    "    def __init__(self):\n",
    "        self.value = [1]\n",
    "    \n",
    "    def add_one(self, inplace=False):\n",
    "        self.value.append(self.value[-1] + 1)\n",
    "        return self\n",
    "    \n",
    "    def print_value(self):\n",
    "        print(self.value)\n",
    "        \n",
    "b = Test()\n",
    "b.add_one().add_one().add_one().add_one()\n",
    "print(\"b.print_value():\", b.print_value())\n",
    "\n"
   ]
  },
  {
   "cell_type": "markdown",
   "metadata": {},
   "source": [
    "# Deprecated working methods"
   ]
  },
  {
   "cell_type": "code",
   "execution_count": null,
   "metadata": {
    "collapsed": true
   },
   "outputs": [],
   "source": [
    "# # OBSOLECENSE TIMELINE UNKNOWN\n",
    "# def make_dataframe(array_1=None, array_2=None):\n",
    "#     \"\"\"Create a DataFrame from the elementwise product of two iterables.\"\"\"\n",
    "    \n",
    "#     if array_1 is None or array_2 is None:\n",
    "#         return None\n",
    "    \n",
    "#     if array_1.shape[0] < array_2.shape[0]:\n",
    "#         index_array = array_1\n",
    "#         column_array = array_2\n",
    "#     else:\n",
    "#         index_array = array_2\n",
    "#         column_array = array_1\n",
    "\n",
    "#     result_dataframe = pd.DataFrame(index=index_array, columns=column_array)\n",
    "#     for row in result_dataframe.iterrows():\n",
    "#         result_dataframe.loc[row[0]] = row[0] * result_dataframe.columns\n",
    "#     return result_dataframe\n",
    "\n",
    "\n",
    "# # PHASED OUT 4-July-2018\n",
    "# # MADE OBSOLETE BY make_Nd_dataframe\n",
    "# def _make_dataframe(self, array_1=None, array_2=None):\n",
    "#     \"\"\"Create a DataFrame from the elementwise product of two iterables.\"\"\"\n",
    "\n",
    "#     result_dataframe = pd.DataFrame(index=array_1, columns=array_2)\n",
    "\n",
    "#     # Iterative operations are generally faster if row length is greater than the number of columns.\n",
    "#     if result_dataframe.shape[0] < result_dataframe.shape[1]:\n",
    "#         result_dataframe = result_dataframe.T\n",
    "\n",
    "#     result_dataframe = result_dataframe.apply(lambda series: series.index) * result_dataframe.columns\n",
    "\n",
    "#     return result_dataframe\n",
    "\n",
    "# # PHASED OUT 4-July-2018\n",
    "# # PAIRED WITH _make_dataframe\n",
    "# # MADE OBSOLETE BY make_Nd_dataframe\n",
    "# def _invert_dataframe(self, input_dataframe=None):\n",
    "#     \"\"\"Inverts a DataFrame, where the values become the index and the column and row indicies become values.\"\"\"\n",
    "#     if input_dataframe is None:\n",
    "#         return None\n",
    "#     reshaped_dataframe = input_dataframe.stack().reset_index().set_index(0)\n",
    "#     feature_count = reshaped_dataframe.shape[1]\n",
    "#     feature_names = list(range(feature_count))\n",
    "#     reshaped_dataframe.columns = feature_names\n",
    "#     return reshaped_dataframe.sort_index()\n",
    "\n",
    "\n",
    "# # PHASED OUT 20-July-2018\n",
    "# # MADE OBSOLETE BY: SEE COMMENT\n",
    "# def _make_Nd_dataframe(self, arrays):\n",
    "#     \"\"\"Handles N-dimensions.\"\"\"\n",
    "#     grid = numpy.meshgrid(*arrays)\n",
    "#     transposed_grid = numpy.transpose(grid)\n",
    "#     reshaped_grid = numpy.dstack(transposed_grid).reshape(-1, len(arrays))  #Replacing dstack with ravel significantly reduces reshape time.\n",
    "#     dataframe = pandas.DataFrame(reshaped_grid)\n",
    "#     products = dataframe.product(axis=1)\n",
    "#     dataframe.index = products\n",
    "#     dataframe.columns = [\"feature_{0}\".format(column) for column in dataframe.columns]\n",
    "#     dataframe = dataframe.sort_index()\n",
    "#     return dataframe\n",
    "\n",
    "\n",
    "# # PHASED OUT 25-July-2018\n",
    "# # MADE OBSOLETE BY: various improvements using Numpy.\n",
    "# def _make_Nd_dataframe(self, arrays):\n",
    "#     \"\"\"Handles N-dimensions.\"\"\"\n",
    "#     grid = numpy.meshgrid(*arrays)\n",
    "#     transposed_grid = numpy.transpose(grid)\n",
    "#     reshaped_grid = transposed_grid.ravel().reshape(-1, len(arrays))\n",
    "#     dataframe = pandas.DataFrame(reshaped_grid) \n",
    "#     products = dataframe.product(axis=1)\n",
    "#     dataframe.index = products\n",
    "#     dataframe.columns = [\"feature_{0}\".format(column) for column in dataframe.columns]\n",
    "#     dataframe = dataframe.sort_index()\n",
    "#     return dataframe"
   ]
  },
  {
   "cell_type": "code",
   "execution_count": null,
   "metadata": {
    "collapsed": true
   },
   "outputs": [],
   "source": []
  }
 ],
 "metadata": {
  "kernelspec": {
   "display_name": "Python 3",
   "language": "python",
   "name": "python3"
  },
  "language_info": {
   "codemirror_mode": {
    "name": "ipython",
    "version": 3
   },
   "file_extension": ".py",
   "mimetype": "text/x-python",
   "name": "python",
   "nbconvert_exporter": "python",
   "pygments_lexer": "ipython3",
   "version": "3.7.0"
  }
 },
 "nbformat": 4,
 "nbformat_minor": 2
}
